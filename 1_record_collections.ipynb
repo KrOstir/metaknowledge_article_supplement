{
 "cells": [
  {
   "cell_type": "markdown",
   "metadata": {},
   "source": [
    "![](images/mk.png)\n",
    "\n",
    "<h1><center>ONLINE SUPPLEMENT</center></h1>\n",
    "\n",
    "John McLevey & Reid-McIlroy-Young. **Introducing *metaknowledge*: Software for Computational Research in Information Science, Science of Science, and Network Analysis.** *Journal of Informetrics*. 11:176-197.\n",
    "\n",
    "<h1><center>Part 1: Working With Record Collections</center></h1>\n",
    "\n",
    "These supplementary notebooks were prepared by Dr. [John McLevey](http://www.johnmclevey.com/) (University of Waterloo), [Reid McIlroy-Young](http://reidmcy.com/) (University of Chicago), and [Jillian Anderson](http://networkslab.org/) (NetLab, University of Waterloo). "
   ]
  },
  {
   "cell_type": "markdown",
   "metadata": {},
   "source": [
    "# Getting Started"
   ]
  },
  {
   "cell_type": "markdown",
   "metadata": {},
   "source": [
    "### Installing Python, the Scientific Stack, and *metaknowledge*"
   ]
  },
  {
   "cell_type": "markdown",
   "metadata": {},
   "source": [
    "This Github repository contains the data and executable code accompanying our article \"Introducing metaknowledge: Software for Computational Research in Information Science, Science of Science, and Network Analysis.\"\n",
    "\n",
    "To use this Juputer Notebook: \n",
    "\n",
    "1. Download or clone this [Github repository](https://github.com/mclevey/metaknowledge_article_supplement)\n",
    "2. Download and install the [Anaconda distribution of Python3](https://www.continuum.io/downloads)\n",
    "3. Download and install the current public releases of *metaknowledge*, *networkx*, and *NLTK* as described in the article text\n",
    "4. From the same directory the Jupyter Notebook is in, type `jupyter notebook` on the command line"
   ]
  },
  {
   "cell_type": "markdown",
   "metadata": {},
   "source": [
    "### Load Packages"
   ]
  },
  {
   "cell_type": "code",
   "execution_count": 14,
   "metadata": {
    "collapsed": false
   },
   "outputs": [],
   "source": [
    "import metaknowledge as mk\n",
    "import pandas\n",
    "\n",
    "# for static graphs \n",
    "import matplotlib.pyplot as plt\n",
    "import seaborn as sns\n",
    "\n",
    "%matplotlib inline\n",
    "get_ipython().magic(\"config InlineBackend.figure_format = 'retina'\")\n",
    "\n",
    "sns.set_style(style=\"white\") # change the default background plot colour\n",
    "sns.set(font_scale=.75)\n",
    "plt.rc(\"savefig\", dpi=400) # improve default resolution of graphics\n",
    "\n",
    "# for interactive graphs \n",
    "import plotly.plotly as py\n",
    "import plotly.graph_objs as go\n",
    "# if this is your first time using plot.ly, you will need to sign up\n",
    "# for a free account and get an API key. details here: https://plot.ly/python/getting-started/\n",
    "# alternatively, you can skip the plot.ly graphs use Seaborn to produce static graphs, or\n",
    "# you could produce interactive graphs using another package, such as Bokeh. "
   ]
  },
  {
   "cell_type": "markdown",
   "metadata": {},
   "source": [
    "The data files for our notebooks should be in a directory called `raw_data`."
   ]
  },
  {
   "cell_type": "markdown",
   "metadata": {},
   "source": [
    "# Creating and Processing Record Collections\n",
    "\n",
    "### Parsing Raw Data to Create Records and RecordCollections"
   ]
  },
  {
   "cell_type": "markdown",
   "metadata": {},
   "source": [
    "We have already set the working directory. All we need to do to create a `Record Collection` is provide the rest of the file path to the raw data. We will use the information science and bibliometrics dataset used in the \"Introducing *metaknowledge*\" article."
   ]
  },
  {
   "cell_type": "code",
   "execution_count": 15,
   "metadata": {
    "collapsed": false
   },
   "outputs": [
    {
     "data": {
      "text/plain": [
       "8140"
      ]
     },
     "execution_count": 15,
     "metadata": {},
     "output_type": "execute_result"
    }
   ],
   "source": [
    "RC = mk.RecordCollection('raw_data/imetrics/', cached = True)\n",
    "len(RC)"
   ]
  },
  {
   "cell_type": "markdown",
   "metadata": {},
   "source": [
    "We can easily write the full dataframe to a `.csv` file using the `writeCSV` method. This file can, of course, be used by any other research software."
   ]
  },
  {
   "cell_type": "code",
   "execution_count": 16,
   "metadata": {
    "collapsed": true
   },
   "outputs": [],
   "source": [
    "RC.writeCSV('generated_datasets/records.csv')"
   ]
  },
  {
   "cell_type": "markdown",
   "metadata": {},
   "source": [
    "Of course it is also possible to continue working in Python. *metaknowledge* has some useful functions for working with `Record Collections`, but researchers can also use other Python packages such as *Pandas*. \n",
    "\n",
    "The code block below uses the *metaknowledge* method `yearSplit` to extract the records published in 2013 and 2014 and shows the estimates for author gender. The process for estimating author genders uses birth record and name data. It is described in the article. "
   ]
  },
  {
   "cell_type": "code",
   "execution_count": 17,
   "metadata": {
    "collapsed": false
   },
   "outputs": [
    {
     "data": {
      "text/plain": [
       "{'Female': 506, 'Male': 1349, 'Unknown': 1361}"
      ]
     },
     "execution_count": 17,
     "metadata": {},
     "output_type": "execute_result"
    }
   ],
   "source": [
    "RC1314 = RC.yearSplit(2013, 2014)\n",
    "gender_breakdown = RC1314.genderStats()\n",
    "gender_breakdown"
   ]
  },
  {
   "cell_type": "markdown",
   "metadata": {},
   "source": [
    "The `glimpse` method in *metaknowledge* is a convienent way to quickly view the most frequently occuring authors and journals, and the most highly cited articles. It will print a quick summary to screen. "
   ]
  },
  {
   "cell_type": "code",
   "execution_count": 18,
   "metadata": {
    "collapsed": false
   },
   "outputs": [
    {
     "name": "stdout",
     "output_type": "stream",
     "text": [
      "RecordCollection glimpse made at: 2018-01-25 10:42:00\n",
      "8140 Records from files-from-raw_data/imetrics/\n",
      "\n",
      "Top Authors\n",
      "1 Bornmann, Lutz\n",
      "2 Leydesdorff, Loet\n",
      "3 Thelwall, Mike\n",
      "4 Rousseau, Ronald\n",
      "5 SCHUBERT, A\n",
      "6 Abramo, Giovanni\n",
      "6 D'Angelo, Ciriaco Andrea\n",
      "7 Glanzel, Wolfgang\n",
      "8 Glanzel, W\n",
      "9 Huang, Mu-Hsuan\n",
      "10 BRAUN, T\n",
      "10 Lariviere, Vincent\n",
      "11 Waltman, Ludo\n",
      "12 Ding, Ying\n",
      "13 Daniel, Hans-Dieter\n",
      "14 Cronin, Blaise\n",
      "15 Rousseau, R\n",
      "16 GLANZEL, W\n",
      "17 Egghe, L.\n",
      "17 Chen, Dar-Zen\n",
      "17 MORAVCSIK, MJ\n",
      "17 Egghe, Leo\n",
      "18 Egghe, L\n",
      "\n",
      "Top Journals\n",
      "1 SCIENTOMETRICS\n",
      "2 JOURNAL OF THE AMERICAN SOCIETY FOR INFORMATION SCIENCE AND TECHNOLOGY\n",
      "3 JOURNAL OF INFORMETRICS\n",
      "4 JOURNAL OF THE ASSOCIATION FOR INFORMATION SCIENCE AND TECHNOLOGY\n",
      "\n",
      "Top Cited\n",
      "1 Hirsch JE, 2005, P NATL ACAD SCI USA, V102, P16569, DOI 10.1073/pnas.0507655102\n",
      "2 Egghe L, 2006, SCIENTOMETRICS, V69, P131, DOI 10.1007/s11192-006-0144-7\n",
      "3 SMALL H, 1973, J AM SOC INFORM SCI, V24, P265, DOI 10.1002/asi.4630240406\n",
      "4 GARFIELD E, 1972, SCIENCE, V178, P471, DOI 10.1126/science.178.4060.471\n",
      "5 MERTON RK, 1968, SCIENCE, V159, P56, DOI 10.1126/science.159.3810.56\n",
      "5 Glanzel W, 2001, SCIENTOMETRICS, V51, P69, DOI 10.1023/A:1010512628145\n",
      "6 PRICE DJD, 1965, SCIENCE, V149, P510\n",
      "6 Leydesdorff L, 2011, J AM SOC INF SCI TEC, V62, P2133, DOI 10.1002/asi.21609\n",
      "7 Katz JS, 1997, RES POLICY, V26, P1, DOI 10.1016/S0048-7333(96)00917-1\n",
      "8 Wasserman S., 1994, SOCIAL NETWORK ANAL\n",
      "8 Glanzel W, 2006, SCIENTOMETRICS, V67, P67, DOI 10.1556/Scient.67.2006.1.5\n",
      "9 Leydesdorff L, 2009, J AM SOC INF SCI TEC, V60, P348, DOI 10.1002/asi.20967\n",
      "9 SCHUBERT A, 1986, SCIENTOMETRICS, V14, P281\n",
      "10 Moed H. F., 2005, CITATION ANAL RES EV\n",
      "11 De Solla Price Derek J., 1963, LITTLE SCI BIG SCI\n",
      "11 White HD, 1998, J AM SOC INFORM SCI, V49, P327, DOI 10.1002/(SICI)1097-4571(19980401)49:4<327::AID-ASI4>3.0.CO;2-W\n",
      "12 Glanzel W, 2003, SCIENTOMETRICS, V56, P357, DOI 10.1023/A:1022378804087\n",
      "13 SMALL H, 1985, SCIENTOMETRICS, V7, P391, DOI 10.1007/BF02017157\n",
      "14 Glanzel W, 2002, SCIENTOMETRICS, V53, P171, DOI 10.1023/A:1014848323806\n",
      "15 Waltman L, 2012, J AM SOC INF SCI TEC, V63, P2378, DOI 10.1002/asi.22748\n",
      "16 PRICE DJD, 1976, J AM SOC INFORM SCI, V27, P292, DOI 10.1002/asi.4630270505\n",
      "17 Leydesdorff L, 2006, J AM SOC INF SCI TEC, V57, P601, DOI 10.1002/asi.20322\n",
      "18 Lotka A. J., 1926, J WASHINGTON ACAD SC, V16, P317\n"
     ]
    }
   ],
   "source": [
    "print(RC.glimpse())"
   ]
  },
  {
   "cell_type": "markdown",
   "metadata": {},
   "source": [
    "While `glimpse` is useful for getting a quick sense of the most frequently appearing authors and journals, and the most highly cited documents, most research workflows require direct interaction with the data stored in the `Record Collection`. The easiest way to do this is to convert the `Record Collection` into a [Pandas](http://pandas.pydata.org/pandas-docs/stable/) dataframe. This provides access to a wide range of methods for selecting, filtering, grouping, summarizing, modeling, and plotting data. \n",
    "\n",
    "In addition to the *Pandas* documentation, researchers may want to consult Wes McKinney's book [*Python for Data Analysis: Data Wrangling with Pandas, NumPy, and IPython*](https://www.amazon.com/Python-Data-Analysis-Wrangling-IPython-ebook/dp/B009NLMB8Q) or an online tutorial (e.g. Julia Evans' [Pandas cookbook](https://jvns.ca/blog/2013/12/22/cooking-with-pandas/))."
   ]
  },
  {
   "cell_type": "code",
   "execution_count": 19,
   "metadata": {
    "collapsed": false
   },
   "outputs": [
    {
     "data": {
      "text/html": [
       "<div>\n",
       "<style scoped>\n",
       "    .dataframe tbody tr th:only-of-type {\n",
       "        vertical-align: middle;\n",
       "    }\n",
       "\n",
       "    .dataframe tbody tr th {\n",
       "        vertical-align: top;\n",
       "    }\n",
       "\n",
       "    .dataframe thead th {\n",
       "        text-align: right;\n",
       "    }\n",
       "</style>\n",
       "<table border=\"1\" class=\"dataframe\">\n",
       "  <thead>\n",
       "    <tr style=\"text-align: right;\">\n",
       "      <th></th>\n",
       "      <th>AF</th>\n",
       "      <th>AB</th>\n",
       "      <th>PY</th>\n",
       "      <th>TI</th>\n",
       "      <th>SO</th>\n",
       "      <th>num-Authors</th>\n",
       "      <th>TC</th>\n",
       "    </tr>\n",
       "  </thead>\n",
       "  <tbody>\n",
       "    <tr>\n",
       "      <th>0</th>\n",
       "      <td>[Schreiber, M., Malesios, C. C., Psarakis, S.]</td>\n",
       "      <td>The purpose of this article is to come up with...</td>\n",
       "      <td>2012</td>\n",
       "      <td>Exploratory factor analysis for the Hirsch ind...</td>\n",
       "      <td>JOURNAL OF INFORMETRICS</td>\n",
       "      <td>3</td>\n",
       "      <td>24</td>\n",
       "    </tr>\n",
       "    <tr>\n",
       "      <th>1</th>\n",
       "      <td>[Guns, Raf, Rousseau, Ronald]</td>\n",
       "      <td>We introduce a method to predict or recommend ...</td>\n",
       "      <td>2014</td>\n",
       "      <td>Recommending research collaborations using lin...</td>\n",
       "      <td>SCIENTOMETRICS</td>\n",
       "      <td>2</td>\n",
       "      <td>3</td>\n",
       "    </tr>\n",
       "    <tr>\n",
       "      <th>2</th>\n",
       "      <td>[Sangwal, Keshra]</td>\n",
       "      <td>The distributions of citations L, two- (IF2) a...</td>\n",
       "      <td>2013</td>\n",
       "      <td>Citation and impact factor distributions of sc...</td>\n",
       "      <td>JOURNAL OF INFORMETRICS</td>\n",
       "      <td>1</td>\n",
       "      <td>3</td>\n",
       "    </tr>\n",
       "    <tr>\n",
       "      <th>3</th>\n",
       "      <td>[Albarran, Pedro, Ruiz-Castillo, Javier]</td>\n",
       "      <td>This article studies massive evidence about re...</td>\n",
       "      <td>2011</td>\n",
       "      <td>References Made and Citations Received by Scie...</td>\n",
       "      <td>JOURNAL OF THE AMERICAN SOCIETY FOR INFORMATIO...</td>\n",
       "      <td>2</td>\n",
       "      <td>43</td>\n",
       "    </tr>\n",
       "    <tr>\n",
       "      <th>4</th>\n",
       "      <td>[Yu, Guang, Li, Yi-Jun]</td>\n",
       "      <td>In this article, we firstly analyze the refere...</td>\n",
       "      <td>2010</td>\n",
       "      <td>Identification of referencing and citation pro...</td>\n",
       "      <td>SCIENTOMETRICS</td>\n",
       "      <td>2</td>\n",
       "      <td>5</td>\n",
       "    </tr>\n",
       "    <tr>\n",
       "      <th>5</th>\n",
       "      <td>[Sun, Xiaoling, Lin, Hongfei, Xu, Kan, Ding, Kun]</td>\n",
       "      <td>The large amounts of publicly available biblio...</td>\n",
       "      <td>2015</td>\n",
       "      <td>How we collaborate: characterizing, modeling a...</td>\n",
       "      <td>SCIENTOMETRICS</td>\n",
       "      <td>4</td>\n",
       "      <td>0</td>\n",
       "    </tr>\n",
       "    <tr>\n",
       "      <th>6</th>\n",
       "      <td>[Workman, Michael]</td>\n",
       "      <td>The collection and dissemination of informatio...</td>\n",
       "      <td>2008</td>\n",
       "      <td>Wisecrackers: A theory-grounded investigation ...</td>\n",
       "      <td>JOURNAL OF THE AMERICAN SOCIETY FOR INFORMATIO...</td>\n",
       "      <td>1</td>\n",
       "      <td>19</td>\n",
       "    </tr>\n",
       "    <tr>\n",
       "      <th>7</th>\n",
       "      <td>[Chen, Yunwei, Boerner, Katy, Fang, Shu]</td>\n",
       "      <td>This paper reports first results on the interp...</td>\n",
       "      <td>2013</td>\n",
       "      <td>Evolving collaboration networks in Scientometr...</td>\n",
       "      <td>SCIENTOMETRICS</td>\n",
       "      <td>3</td>\n",
       "      <td>3</td>\n",
       "    </tr>\n",
       "    <tr>\n",
       "      <th>8</th>\n",
       "      <td>[Kao, Chiang]</td>\n",
       "      <td>This paper surveys 56 internationally renowned...</td>\n",
       "      <td>2009</td>\n",
       "      <td>The authorship and country spread of Operation...</td>\n",
       "      <td>SCIENTOMETRICS</td>\n",
       "      <td>1</td>\n",
       "      <td>5</td>\n",
       "    </tr>\n",
       "    <tr>\n",
       "      <th>9</th>\n",
       "      <td>[Doty, Philip]</td>\n",
       "      <td>None</td>\n",
       "      <td>2013</td>\n",
       "      <td>How information matters: Networks and public p...</td>\n",
       "      <td>JOURNAL OF THE AMERICAN SOCIETY FOR INFORMATIO...</td>\n",
       "      <td>1</td>\n",
       "      <td>0</td>\n",
       "    </tr>\n",
       "  </tbody>\n",
       "</table>\n",
       "</div>"
      ],
      "text/plain": [
       "                                                  AF  \\\n",
       "0     [Schreiber, M., Malesios, C. C., Psarakis, S.]   \n",
       "1                      [Guns, Raf, Rousseau, Ronald]   \n",
       "2                                  [Sangwal, Keshra]   \n",
       "3           [Albarran, Pedro, Ruiz-Castillo, Javier]   \n",
       "4                            [Yu, Guang, Li, Yi-Jun]   \n",
       "5  [Sun, Xiaoling, Lin, Hongfei, Xu, Kan, Ding, Kun]   \n",
       "6                                 [Workman, Michael]   \n",
       "7           [Chen, Yunwei, Boerner, Katy, Fang, Shu]   \n",
       "8                                      [Kao, Chiang]   \n",
       "9                                     [Doty, Philip]   \n",
       "\n",
       "                                                  AB    PY  \\\n",
       "0  The purpose of this article is to come up with...  2012   \n",
       "1  We introduce a method to predict or recommend ...  2014   \n",
       "2  The distributions of citations L, two- (IF2) a...  2013   \n",
       "3  This article studies massive evidence about re...  2011   \n",
       "4  In this article, we firstly analyze the refere...  2010   \n",
       "5  The large amounts of publicly available biblio...  2015   \n",
       "6  The collection and dissemination of informatio...  2008   \n",
       "7  This paper reports first results on the interp...  2013   \n",
       "8  This paper surveys 56 internationally renowned...  2009   \n",
       "9                                               None  2013   \n",
       "\n",
       "                                                  TI  \\\n",
       "0  Exploratory factor analysis for the Hirsch ind...   \n",
       "1  Recommending research collaborations using lin...   \n",
       "2  Citation and impact factor distributions of sc...   \n",
       "3  References Made and Citations Received by Scie...   \n",
       "4  Identification of referencing and citation pro...   \n",
       "5  How we collaborate: characterizing, modeling a...   \n",
       "6  Wisecrackers: A theory-grounded investigation ...   \n",
       "7  Evolving collaboration networks in Scientometr...   \n",
       "8  The authorship and country spread of Operation...   \n",
       "9  How information matters: Networks and public p...   \n",
       "\n",
       "                                                  SO  num-Authors  TC  \n",
       "0                            JOURNAL OF INFORMETRICS            3  24  \n",
       "1                                     SCIENTOMETRICS            2   3  \n",
       "2                            JOURNAL OF INFORMETRICS            1   3  \n",
       "3  JOURNAL OF THE AMERICAN SOCIETY FOR INFORMATIO...            2  43  \n",
       "4                                     SCIENTOMETRICS            2   5  \n",
       "5                                     SCIENTOMETRICS            4   0  \n",
       "6  JOURNAL OF THE AMERICAN SOCIETY FOR INFORMATIO...            1  19  \n",
       "7                                     SCIENTOMETRICS            3   3  \n",
       "8                                     SCIENTOMETRICS            1   5  \n",
       "9  JOURNAL OF THE AMERICAN SOCIETY FOR INFORMATIO...            1   0  "
      ]
     },
     "execution_count": 19,
     "metadata": {},
     "output_type": "execute_result"
    }
   ],
   "source": [
    "df = pandas.DataFrame(RC.makeDict())\n",
    "selectedVars = df[['AF', 'AB', 'PY', 'TI', 'SO', 'num-Authors', 'TC']]\n",
    "selectedVars[:10] # show the first 10 rows."
   ]
  },
  {
   "cell_type": "markdown",
   "metadata": {},
   "source": [
    "The two letter variable names are the tags used by Web of Science. A description of the content of each tag is available [online](https://images.webofknowledge.com/images/help/WOS/h_fieldtags.html). The code block above shows 7 tags that are typically of interest, but there are many others available. "
   ]
  },
  {
   "cell_type": "code",
   "execution_count": 20,
   "metadata": {
    "collapsed": false
   },
   "outputs": [
    {
     "data": {
      "text/plain": [
       "['AB',\n",
       " 'AF',\n",
       " 'AU',\n",
       " 'BP',\n",
       " 'C1',\n",
       " 'CA',\n",
       " 'CL',\n",
       " 'CR',\n",
       " 'CT',\n",
       " 'CY',\n",
       " 'DE',\n",
       " 'DI',\n",
       " 'DT',\n",
       " 'EI',\n",
       " 'EM',\n",
       " 'EP',\n",
       " 'FU',\n",
       " 'FX',\n",
       " 'GA',\n",
       " 'HO',\n",
       " 'ID',\n",
       " 'IS',\n",
       " 'J9',\n",
       " 'JI',\n",
       " 'LA',\n",
       " 'NR',\n",
       " 'OI',\n",
       " 'PA',\n",
       " 'PD',\n",
       " 'PG',\n",
       " 'PI',\n",
       " 'PM',\n",
       " 'PT',\n",
       " 'PU',\n",
       " 'PY',\n",
       " 'RI',\n",
       " 'RP',\n",
       " 'SC',\n",
       " 'SI',\n",
       " 'SN',\n",
       " 'SO',\n",
       " 'SP',\n",
       " 'TC',\n",
       " 'TI',\n",
       " 'U1',\n",
       " 'U2',\n",
       " 'UT',\n",
       " 'VL',\n",
       " 'WC',\n",
       " 'Z9',\n",
       " 'num-Authors',\n",
       " 'num-Female',\n",
       " 'num-Male',\n",
       " 'num-Unknown']"
      ]
     },
     "execution_count": 20,
     "metadata": {},
     "output_type": "execute_result"
    }
   ],
   "source": [
    "df.columns.values.tolist()"
   ]
  },
  {
   "cell_type": "markdown",
   "metadata": {},
   "source": [
    "We can sort these dataframe by any quantitative variable. Below, we show the 40 most highly cited articles in the dataset. Changing or removing the `[:40]` affects the number of records shown."
   ]
  },
  {
   "cell_type": "code",
   "execution_count": 21,
   "metadata": {
    "collapsed": false
   },
   "outputs": [
    {
     "data": {
      "text/html": [
       "<div>\n",
       "<style scoped>\n",
       "    .dataframe tbody tr th:only-of-type {\n",
       "        vertical-align: middle;\n",
       "    }\n",
       "\n",
       "    .dataframe tbody tr th {\n",
       "        vertical-align: top;\n",
       "    }\n",
       "\n",
       "    .dataframe thead th {\n",
       "        text-align: right;\n",
       "    }\n",
       "</style>\n",
       "<table border=\"1\" class=\"dataframe\">\n",
       "  <thead>\n",
       "    <tr style=\"text-align: right;\">\n",
       "      <th></th>\n",
       "      <th>AF</th>\n",
       "      <th>AB</th>\n",
       "      <th>PY</th>\n",
       "      <th>TI</th>\n",
       "      <th>SO</th>\n",
       "      <th>num-Authors</th>\n",
       "      <th>TC</th>\n",
       "    </tr>\n",
       "  </thead>\n",
       "  <tbody>\n",
       "    <tr>\n",
       "      <th>2111</th>\n",
       "      <td>[Egghe, Leo]</td>\n",
       "      <td>The g-index is introduced as an improvement of...</td>\n",
       "      <td>2006</td>\n",
       "      <td>Theory and practise of the g-index</td>\n",
       "      <td>SCIENTOMETRICS</td>\n",
       "      <td>1</td>\n",
       "      <td>538</td>\n",
       "    </tr>\n",
       "    <tr>\n",
       "      <th>6681</th>\n",
       "      <td>[Ho, YS]</td>\n",
       "      <td>This study presents a literature review concer...</td>\n",
       "      <td>2004</td>\n",
       "      <td>Citation review of Lagergren kinetic rate equa...</td>\n",
       "      <td>SCIENTOMETRICS</td>\n",
       "      <td>1</td>\n",
       "      <td>527</td>\n",
       "    </tr>\n",
       "    <tr>\n",
       "      <th>4137</th>\n",
       "      <td>[Liben-Nowell, David, Kleinberg, Jon]</td>\n",
       "      <td>Given a snapshot of a social network, can we i...</td>\n",
       "      <td>2007</td>\n",
       "      <td>The link-prediction problem for social networks</td>\n",
       "      <td>JOURNAL OF THE AMERICAN SOCIETY FOR INFORMATIO...</td>\n",
       "      <td>2</td>\n",
       "      <td>437</td>\n",
       "    </tr>\n",
       "    <tr>\n",
       "      <th>6997</th>\n",
       "      <td>[Spink, A, Wolfram, D, Jansen, MBJ, Saracevic, T]</td>\n",
       "      <td>In studying actual Web searching by the public...</td>\n",
       "      <td>2001</td>\n",
       "      <td>Searching the Web: The public and their queries</td>\n",
       "      <td>JOURNAL OF THE AMERICAN SOCIETY FOR INFORMATIO...</td>\n",
       "      <td>4</td>\n",
       "      <td>365</td>\n",
       "    </tr>\n",
       "    <tr>\n",
       "      <th>3372</th>\n",
       "      <td>[Meho, Lokman I., Yang, Kiduk]</td>\n",
       "      <td>The Institute for Scientific Information's (IS...</td>\n",
       "      <td>2007</td>\n",
       "      <td>Impact of data sources on citation counts and ...</td>\n",
       "      <td>JOURNAL OF THE AMERICAN SOCIETY FOR INFORMATIO...</td>\n",
       "      <td>2</td>\n",
       "      <td>315</td>\n",
       "    </tr>\n",
       "  </tbody>\n",
       "</table>\n",
       "</div>"
      ],
      "text/plain": [
       "                                                     AF  \\\n",
       "2111                                       [Egghe, Leo]   \n",
       "6681                                           [Ho, YS]   \n",
       "4137              [Liben-Nowell, David, Kleinberg, Jon]   \n",
       "6997  [Spink, A, Wolfram, D, Jansen, MBJ, Saracevic, T]   \n",
       "3372                     [Meho, Lokman I., Yang, Kiduk]   \n",
       "\n",
       "                                                     AB    PY  \\\n",
       "2111  The g-index is introduced as an improvement of...  2006   \n",
       "6681  This study presents a literature review concer...  2004   \n",
       "4137  Given a snapshot of a social network, can we i...  2007   \n",
       "6997  In studying actual Web searching by the public...  2001   \n",
       "3372  The Institute for Scientific Information's (IS...  2007   \n",
       "\n",
       "                                                     TI  \\\n",
       "2111                 Theory and practise of the g-index   \n",
       "6681  Citation review of Lagergren kinetic rate equa...   \n",
       "4137    The link-prediction problem for social networks   \n",
       "6997    Searching the Web: The public and their queries   \n",
       "3372  Impact of data sources on citation counts and ...   \n",
       "\n",
       "                                                     SO  num-Authors   TC  \n",
       "2111                                     SCIENTOMETRICS            1  538  \n",
       "6681                                     SCIENTOMETRICS            1  527  \n",
       "4137  JOURNAL OF THE AMERICAN SOCIETY FOR INFORMATIO...            2  437  \n",
       "6997  JOURNAL OF THE AMERICAN SOCIETY FOR INFORMATIO...            4  365  \n",
       "3372  JOURNAL OF THE AMERICAN SOCIETY FOR INFORMATIO...            2  315  "
      ]
     },
     "execution_count": 21,
     "metadata": {},
     "output_type": "execute_result"
    }
   ],
   "source": [
    "top_40 = selectedVars.sort_values(['TC'], ascending = False)[:40]\n",
    "top_40.head()"
   ]
  },
  {
   "cell_type": "markdown",
   "metadata": {},
   "source": [
    "We will create a new column called `short_title` that will contain the first 20 characters in the title. We can then use this new variable to create a horizontal bar graph with reasonable labels on the y-axis. (If we did not shorten them, the y-axis label would be as wide as the longest article title.)"
   ]
  },
  {
   "cell_type": "code",
   "execution_count": 22,
   "metadata": {
    "collapsed": false
   },
   "outputs": [
    {
     "name": "stdout",
     "output_type": "stream",
     "text": [
      "High five! You successfully sent some data to your account on plotly. View your plot in your browser at https://plot.ly/~KrOstir/0 or inside your plot.ly account where it is named 'times-cited'\n"
     ]
    },
    {
     "data": {
      "text/html": [
       "<iframe id=\"igraph\" scrolling=\"no\" style=\"border:none;\" seamless=\"seamless\" src=\"https://plot.ly/~KrOstir/0.embed\" height=\"525px\" width=\"100%\"></iframe>"
      ],
      "text/plain": [
       "<plotly.tools.PlotlyDisplay object>"
      ]
     },
     "execution_count": 22,
     "metadata": {},
     "output_type": "execute_result"
    }
   ],
   "source": [
    "trace = go.Bar(\n",
    "            x=top_40['TI'],\n",
    "            y=top_40['TC']\n",
    "    )\n",
    "\n",
    "data = [trace]\n",
    "\n",
    "layout = go.Layout(\n",
    "    yaxis=dict(\n",
    "        title='Times Cited',\n",
    "    )\n",
    ")\n",
    "\n",
    "fig = go.Figure(data=data, layout=layout)\n",
    "py.iplot(fig, filename='times-cited')\n"
   ]
  },
  {
   "cell_type": "code",
   "execution_count": 23,
   "metadata": {
    "collapsed": false
   },
   "outputs": [
    {
     "data": {
      "text/html": [
       "<div>\n",
       "<style scoped>\n",
       "    .dataframe tbody tr th:only-of-type {\n",
       "        vertical-align: middle;\n",
       "    }\n",
       "\n",
       "    .dataframe tbody tr th {\n",
       "        vertical-align: top;\n",
       "    }\n",
       "\n",
       "    .dataframe thead th {\n",
       "        text-align: right;\n",
       "    }\n",
       "</style>\n",
       "<table border=\"1\" class=\"dataframe\">\n",
       "  <thead>\n",
       "    <tr style=\"text-align: right;\">\n",
       "      <th></th>\n",
       "      <th>TI</th>\n",
       "      <th>short_title</th>\n",
       "      <th>TC</th>\n",
       "    </tr>\n",
       "  </thead>\n",
       "  <tbody>\n",
       "    <tr>\n",
       "      <th>2111</th>\n",
       "      <td>Theory and practise of the g-index</td>\n",
       "      <td>Theory and practise</td>\n",
       "      <td>538</td>\n",
       "    </tr>\n",
       "    <tr>\n",
       "      <th>6681</th>\n",
       "      <td>Citation review of Lagergren kinetic rate equa...</td>\n",
       "      <td>Citation review of L</td>\n",
       "      <td>527</td>\n",
       "    </tr>\n",
       "    <tr>\n",
       "      <th>4137</th>\n",
       "      <td>The link-prediction problem for social networks</td>\n",
       "      <td>The link-prediction</td>\n",
       "      <td>437</td>\n",
       "    </tr>\n",
       "    <tr>\n",
       "      <th>6997</th>\n",
       "      <td>Searching the Web: The public and their queries</td>\n",
       "      <td>Searching the Web: T</td>\n",
       "      <td>365</td>\n",
       "    </tr>\n",
       "    <tr>\n",
       "      <th>3372</th>\n",
       "      <td>Impact of data sources on citation counts and ...</td>\n",
       "      <td>Impact of data sourc</td>\n",
       "      <td>315</td>\n",
       "    </tr>\n",
       "  </tbody>\n",
       "</table>\n",
       "</div>"
      ],
      "text/plain": [
       "                                                     TI           short_title  \\\n",
       "2111                 Theory and practise of the g-index  Theory and practise    \n",
       "6681  Citation review of Lagergren kinetic rate equa...  Citation review of L   \n",
       "4137    The link-prediction problem for social networks  The link-prediction    \n",
       "6997    Searching the Web: The public and their queries  Searching the Web: T   \n",
       "3372  Impact of data sources on citation counts and ...  Impact of data sourc   \n",
       "\n",
       "       TC  \n",
       "2111  538  \n",
       "6681  527  \n",
       "4137  437  \n",
       "6997  365  \n",
       "3372  315  "
      ]
     },
     "execution_count": 23,
     "metadata": {},
     "output_type": "execute_result"
    }
   ],
   "source": [
    "top_40['short_title'] = top_40['TI'].str[:20]\n",
    "top_40[['TI', 'short_title', 'TC']].head()"
   ]
  },
  {
   "cell_type": "code",
   "execution_count": 24,
   "metadata": {
    "collapsed": false
   },
   "outputs": [
    {
     "data": {
      "image/png": "[encoded data removed]",
      "text/plain": [
       "<matplotlib.figure.Figure at 0x1ee2e6129b0>"
      ]
     },
     "metadata": {
      "image/png": {
       "height": 282,
       "width": 426
      }
     },
     "output_type": "display_data"
    }
   ],
   "source": [
    "with sns.axes_style(\"white\"):\n",
    "    horizontal_bar = sns.barplot(data = top_40, x = 'TC', y = 'short_title', color = 'gray')\n",
    "    horizontal_bar.set(xlabel='Number of Citations', ylabel='')\n",
    "    sns.despine(left = True, right = True, bottom = True, top = True)\n",
    "    plt.tight_layout()\n",
    "plt.savefig('figures/horizontal_barplot.png')\n",
    "plt.savefig('figures/horizontal_barplot.pdf')"
   ]
  },
  {
   "cell_type": "markdown",
   "metadata": {},
   "source": [
    "Creating Time Series Datasets\n",
    "-----------------------------"
   ]
  },
  {
   "cell_type": "markdown",
   "metadata": {},
   "source": [
    "It is also easy to plot time series graphs, for example of article publications over time. We can do this by use the `timeSeries` method in *metaknowledge*, and converting the results into a *Pandas* dataframe that can be easily plotted. We will write the time series dataset to a `csv` file at the same time. "
   ]
  },
  {
   "cell_type": "code",
   "execution_count": 25,
   "metadata": {
    "collapsed": false
   },
   "outputs": [
    {
     "data": {
      "text/html": [
       "<div>\n",
       "<style scoped>\n",
       "    .dataframe tbody tr th:only-of-type {\n",
       "        vertical-align: middle;\n",
       "    }\n",
       "\n",
       "    .dataframe tbody tr th {\n",
       "        vertical-align: top;\n",
       "    }\n",
       "\n",
       "    .dataframe thead th {\n",
       "        text-align: right;\n",
       "    }\n",
       "</style>\n",
       "<table border=\"1\" class=\"dataframe\">\n",
       "  <thead>\n",
       "    <tr style=\"text-align: right;\">\n",
       "      <th></th>\n",
       "      <th>count</th>\n",
       "      <th>entry</th>\n",
       "      <th>year</th>\n",
       "    </tr>\n",
       "  </thead>\n",
       "  <tbody>\n",
       "    <tr>\n",
       "      <th>2</th>\n",
       "      <td>643</td>\n",
       "      <td>2014</td>\n",
       "      <td>2014</td>\n",
       "    </tr>\n",
       "    <tr>\n",
       "      <th>3</th>\n",
       "      <td>572</td>\n",
       "      <td>2013</td>\n",
       "      <td>2013</td>\n",
       "    </tr>\n",
       "    <tr>\n",
       "      <th>4</th>\n",
       "      <td>545</td>\n",
       "      <td>2012</td>\n",
       "      <td>2012</td>\n",
       "    </tr>\n",
       "    <tr>\n",
       "      <th>5</th>\n",
       "      <td>494</td>\n",
       "      <td>2011</td>\n",
       "      <td>2011</td>\n",
       "    </tr>\n",
       "    <tr>\n",
       "      <th>6</th>\n",
       "      <td>535</td>\n",
       "      <td>2010</td>\n",
       "      <td>2010</td>\n",
       "    </tr>\n",
       "    <tr>\n",
       "      <th>7</th>\n",
       "      <td>467</td>\n",
       "      <td>2009</td>\n",
       "      <td>2009</td>\n",
       "    </tr>\n",
       "    <tr>\n",
       "      <th>8</th>\n",
       "      <td>389</td>\n",
       "      <td>2008</td>\n",
       "      <td>2008</td>\n",
       "    </tr>\n",
       "    <tr>\n",
       "      <th>9</th>\n",
       "      <td>395</td>\n",
       "      <td>2007</td>\n",
       "      <td>2007</td>\n",
       "    </tr>\n",
       "    <tr>\n",
       "      <th>10</th>\n",
       "      <td>353</td>\n",
       "      <td>2006</td>\n",
       "      <td>2006</td>\n",
       "    </tr>\n",
       "    <tr>\n",
       "      <th>11</th>\n",
       "      <td>267</td>\n",
       "      <td>2005</td>\n",
       "      <td>2005</td>\n",
       "    </tr>\n",
       "  </tbody>\n",
       "</table>\n",
       "</div>"
      ],
      "text/plain": [
       "    count  entry  year\n",
       "2     643   2014  2014\n",
       "3     572   2013  2013\n",
       "4     545   2012  2012\n",
       "5     494   2011  2011\n",
       "6     535   2010  2010\n",
       "7     467   2009  2009\n",
       "8     389   2008  2008\n",
       "9     395   2007  2007\n",
       "10    353   2006  2006\n",
       "11    267   2005  2005"
      ]
     },
     "execution_count": 25,
     "metadata": {},
     "output_type": "execute_result"
    }
   ],
   "source": [
    "#[2:] removes incomplete data from 2016\n",
    "growth = pandas.DataFrame(RC.timeSeries('year', outputFile = 'generated_datasets/growth.csv'))[2:]\n",
    "growth[:10]"
   ]
  },
  {
   "cell_type": "code",
   "execution_count": 26,
   "metadata": {
    "collapsed": false
   },
   "outputs": [
    {
     "data": {
      "image/png": "[encoded data removed]",
      "text/plain": [
       "<matplotlib.figure.Figure at 0x1ee32011f60>"
      ]
     },
     "metadata": {
      "image/png": {
       "height": 283,
       "width": 425
      }
     },
     "output_type": "display_data"
    }
   ],
   "source": [
    "with sns.axes_style(\"white\"):\n",
    "    plt.plot(growth['year'], growth['count'], color = 'gray')\n",
    "    sns.despine() # improve the look of the plot\n",
    "    plt.tight_layout() # decrease white space around margins\n",
    "plt.savefig(\"figures/growth_chart.pdf\")"
   ]
  },
  {
   "cell_type": "markdown",
   "metadata": {},
   "source": [
    "Static graphs are necessary for journal article plublications, packages like [Seaborn](https://seaborn.pydata.org) make it easy to produce publication quality graphs. One of the advantages of working in a Jupyter Notebook, however, is that we can use libraries like [Bokeh](http://bokeh.pydata.org) and [plot.ly](https://plot.ly/python/) to produce interactive graphs. These are especially helpful for exploratoring data. \n",
    "\n",
    "Let's produce the same line graph again, this time with plot.ly. Tip: hover over the points on the graph."
   ]
  },
  {
   "cell_type": "code",
   "execution_count": 27,
   "metadata": {
    "collapsed": false
   },
   "outputs": [
    {
     "data": {
      "text/html": [
       "<iframe id=\"igraph\" scrolling=\"no\" style=\"border:none;\" seamless=\"seamless\" src=\"https://plot.ly/~KrOstir/2.embed\" height=\"525px\" width=\"100%\"></iframe>"
      ],
      "text/plain": [
       "<plotly.tools.PlotlyDisplay object>"
      ]
     },
     "execution_count": 27,
     "metadata": {},
     "output_type": "execute_result"
    }
   ],
   "source": [
    "trace = go.Scatter(\n",
    "    x = growth['year'],\n",
    "    y = growth['count'],\n",
    "    mode = 'lines+markers',\n",
    "    name = 'lines+markers'\n",
    ")\n",
    "\n",
    "data = [trace]\n",
    "\n",
    "layout = go.Layout(\n",
    "    yaxis=dict(\n",
    "        title='Number of Publications',\n",
    "    ),\n",
    "    xaxis=dict(\n",
    "        title='Year',\n",
    "    )\n",
    ")\n",
    "\n",
    "fig = go.Figure(data=data, layout=layout)\n",
    "py.iplot(fig, filename='growth-over-time')"
   ]
  },
  {
   "cell_type": "markdown",
   "metadata": {},
   "source": [
    "We can also plot a subset of the data. Below, we extract the data for *Scientometrics* and *The Journal of Informetrics* and plot them side by side."
   ]
  },
  {
   "cell_type": "code",
   "execution_count": 28,
   "metadata": {
    "collapsed": false
   },
   "outputs": [
    {
     "data": {
      "text/html": [
       "<div>\n",
       "<style scoped>\n",
       "    .dataframe tbody tr th:only-of-type {\n",
       "        vertical-align: middle;\n",
       "    }\n",
       "\n",
       "    .dataframe tbody tr th {\n",
       "        vertical-align: top;\n",
       "    }\n",
       "\n",
       "    .dataframe thead th {\n",
       "        text-align: right;\n",
       "    }\n",
       "</style>\n",
       "<table border=\"1\" class=\"dataframe\">\n",
       "  <thead>\n",
       "    <tr style=\"text-align: right;\">\n",
       "      <th></th>\n",
       "      <th>count</th>\n",
       "      <th>entry</th>\n",
       "      <th>year</th>\n",
       "    </tr>\n",
       "  </thead>\n",
       "  <tbody>\n",
       "    <tr>\n",
       "      <th>0</th>\n",
       "      <td>59</td>\n",
       "      <td>JOURNAL OF INFORMETRICS</td>\n",
       "      <td>2016</td>\n",
       "    </tr>\n",
       "    <tr>\n",
       "      <th>1</th>\n",
       "      <td>143</td>\n",
       "      <td>SCIENTOMETRICS</td>\n",
       "      <td>2016</td>\n",
       "    </tr>\n",
       "    <tr>\n",
       "      <th>2</th>\n",
       "      <td>84</td>\n",
       "      <td>JOURNAL OF INFORMETRICS</td>\n",
       "      <td>2015</td>\n",
       "    </tr>\n",
       "    <tr>\n",
       "      <th>3</th>\n",
       "      <td>343</td>\n",
       "      <td>SCIENTOMETRICS</td>\n",
       "      <td>2015</td>\n",
       "    </tr>\n",
       "    <tr>\n",
       "      <th>4</th>\n",
       "      <td>90</td>\n",
       "      <td>JOURNAL OF INFORMETRICS</td>\n",
       "      <td>2014</td>\n",
       "    </tr>\n",
       "    <tr>\n",
       "      <th>5</th>\n",
       "      <td>338</td>\n",
       "      <td>SCIENTOMETRICS</td>\n",
       "      <td>2014</td>\n",
       "    </tr>\n",
       "    <tr>\n",
       "      <th>6</th>\n",
       "      <td>103</td>\n",
       "      <td>JOURNAL OF INFORMETRICS</td>\n",
       "      <td>2013</td>\n",
       "    </tr>\n",
       "    <tr>\n",
       "      <th>7</th>\n",
       "      <td>249</td>\n",
       "      <td>SCIENTOMETRICS</td>\n",
       "      <td>2013</td>\n",
       "    </tr>\n",
       "    <tr>\n",
       "      <th>8</th>\n",
       "      <td>78</td>\n",
       "      <td>JOURNAL OF INFORMETRICS</td>\n",
       "      <td>2012</td>\n",
       "    </tr>\n",
       "    <tr>\n",
       "      <th>9</th>\n",
       "      <td>252</td>\n",
       "      <td>SCIENTOMETRICS</td>\n",
       "      <td>2012</td>\n",
       "    </tr>\n",
       "  </tbody>\n",
       "</table>\n",
       "</div>"
      ],
      "text/plain": [
       "   count                    entry  year\n",
       "0     59  JOURNAL OF INFORMETRICS  2016\n",
       "1    143           SCIENTOMETRICS  2016\n",
       "2     84  JOURNAL OF INFORMETRICS  2015\n",
       "3    343           SCIENTOMETRICS  2015\n",
       "4     90  JOURNAL OF INFORMETRICS  2014\n",
       "5    338           SCIENTOMETRICS  2014\n",
       "6    103  JOURNAL OF INFORMETRICS  2013\n",
       "7    249           SCIENTOMETRICS  2013\n",
       "8     78  JOURNAL OF INFORMETRICS  2012\n",
       "9    252           SCIENTOMETRICS  2012"
      ]
     },
     "execution_count": 28,
     "metadata": {},
     "output_type": "execute_result"
    }
   ],
   "source": [
    "subset = ['SCIENTOMETRICS', 'JOURNAL OF INFORMETRICS']\n",
    "growth_by_journal = pandas.DataFrame(RC.timeSeries('journal', \n",
    "    outputFile = 'generated_datasets/growth_journals.csv', limitTo = subset))\n",
    "growth_by_journal[:10]"
   ]
  },
  {
   "cell_type": "code",
   "execution_count": 29,
   "metadata": {
    "collapsed": false
   },
   "outputs": [
    {
     "data": {
      "image/png": "[encoded data removed]",
      "text/plain": [
       "<matplotlib.figure.Figure at 0x1ee356f2358>"
      ]
     },
     "metadata": {
      "image/png": {
       "height": 257,
       "width": 368
      }
     },
     "output_type": "display_data"
    }
   ],
   "source": [
    "with sns.axes_style(\"white\"):\n",
    "    fig, ax = plt.subplots()\n",
    "    growth_by_scientometrics = growth_by_journal[growth_by_journal['entry'] == 'SCIENTOMETRICS'][::-1]\n",
    "    growth_by_informetrics = growth_by_journal[growth_by_journal['entry'] == 'JOURNAL OF INFORMETRICS'][::-1]\n",
    "    growth_by_scientometrics.plot(ax = ax, y ='count', x = 'year', label = 'SCIENTOMETRICS')\n",
    "    growth_by_informetrics.plot(ax = ax, y ='count', x = 'year', label = 'JOURNAL OF INFORMETRICS')\n",
    "    sns.despine()\n",
    "plt.savefig('figures/growth_compare.pdf')"
   ]
  },
  {
   "cell_type": "markdown",
   "metadata": {},
   "source": [
    "Here's the interactive version with plot.ly. This time we will exclude 2016 data because our dataset does not include the full year. "
   ]
  },
  {
   "cell_type": "code",
   "execution_count": 30,
   "metadata": {
    "collapsed": false
   },
   "outputs": [
    {
     "data": {
      "text/html": [
       "<div>\n",
       "<style scoped>\n",
       "    .dataframe tbody tr th:only-of-type {\n",
       "        vertical-align: middle;\n",
       "    }\n",
       "\n",
       "    .dataframe tbody tr th {\n",
       "        vertical-align: top;\n",
       "    }\n",
       "\n",
       "    .dataframe thead th {\n",
       "        text-align: right;\n",
       "    }\n",
       "</style>\n",
       "<table border=\"1\" class=\"dataframe\">\n",
       "  <thead>\n",
       "    <tr style=\"text-align: right;\">\n",
       "      <th></th>\n",
       "      <th>count</th>\n",
       "      <th>entry</th>\n",
       "      <th>year</th>\n",
       "    </tr>\n",
       "  </thead>\n",
       "  <tbody>\n",
       "    <tr>\n",
       "      <th>0</th>\n",
       "      <td>59</td>\n",
       "      <td>JOURNAL OF INFORMETRICS</td>\n",
       "      <td>2016</td>\n",
       "    </tr>\n",
       "    <tr>\n",
       "      <th>1</th>\n",
       "      <td>143</td>\n",
       "      <td>SCIENTOMETRICS</td>\n",
       "      <td>2016</td>\n",
       "    </tr>\n",
       "    <tr>\n",
       "      <th>2</th>\n",
       "      <td>115</td>\n",
       "      <td>JOURNAL OF THE ASSOCIATION FOR INFORMATION SCI...</td>\n",
       "      <td>2016</td>\n",
       "    </tr>\n",
       "    <tr>\n",
       "      <th>3</th>\n",
       "      <td>84</td>\n",
       "      <td>JOURNAL OF INFORMETRICS</td>\n",
       "      <td>2015</td>\n",
       "    </tr>\n",
       "    <tr>\n",
       "      <th>4</th>\n",
       "      <td>343</td>\n",
       "      <td>SCIENTOMETRICS</td>\n",
       "      <td>2015</td>\n",
       "    </tr>\n",
       "  </tbody>\n",
       "</table>\n",
       "</div>"
      ],
      "text/plain": [
       "   count                                              entry  year\n",
       "0     59                            JOURNAL OF INFORMETRICS  2016\n",
       "1    143                                     SCIENTOMETRICS  2016\n",
       "2    115  JOURNAL OF THE ASSOCIATION FOR INFORMATION SCI...  2016\n",
       "3     84                            JOURNAL OF INFORMETRICS  2015\n",
       "4    343                                     SCIENTOMETRICS  2015"
      ]
     },
     "execution_count": 30,
     "metadata": {},
     "output_type": "execute_result"
    }
   ],
   "source": [
    "growth_by_journal2 = pandas.DataFrame(RC.timeSeries('journal', outputFile = 'generated_datasets/growth_journals.csv'))\n",
    "growth_by_journal2.head()"
   ]
  },
  {
   "cell_type": "code",
   "execution_count": 31,
   "metadata": {
    "collapsed": false
   },
   "outputs": [],
   "source": [
    "scientometrics = growth_by_journal2[(growth_by_journal2.entry == 'SCIENTOMETRICS') & (growth_by_journal2.year <= 2015)]\n",
    "informetrics = growth_by_journal2[(growth_by_journal2.entry == 'JOURNAL OF INFORMETRICS') & (growth_by_journal2.year <= 2015)]\n",
    "jaist = growth_by_journal2[(growth_by_journal2.entry == 'JOURNAL OF THE ASSOCIATION FOR INFORMATION SCIENCE AND TECHNOLOGY') & (growth_by_journal2.year <= 2015)]\n",
    "jasist = growth_by_journal2[(growth_by_journal2.entry == 'JOURNAL OF THE AMERICAN SOCIETY FOR INFORMATION SCIENCE AND TECHNOLOGY') & (growth_by_journal2.year <= 2015)]"
   ]
  },
  {
   "cell_type": "code",
   "execution_count": 32,
   "metadata": {
    "collapsed": false
   },
   "outputs": [
    {
     "data": {
      "text/html": [
       "<iframe id=\"igraph\" scrolling=\"no\" style=\"border:none;\" seamless=\"seamless\" src=\"https://plot.ly/~KrOstir/4.embed\" height=\"525px\" width=\"100%\"></iframe>"
      ],
      "text/plain": [
       "<plotly.tools.PlotlyDisplay object>"
      ]
     },
     "execution_count": 32,
     "metadata": {},
     "output_type": "execute_result"
    }
   ],
   "source": [
    "trace1 = go.Scatter(\n",
    "    x = scientometrics['year'],\n",
    "    y = scientometrics['count'],\n",
    "    mode = 'lines+markers',\n",
    "    name = 'Scientometrics'\n",
    ")\n",
    "trace2 = go.Scatter(\n",
    "    x = informetrics['year'],\n",
    "    y = informetrics['count'],\n",
    "    mode = 'lines+markers',\n",
    "    name = 'Journal of Informetrics'\n",
    ")\n",
    "trace3 = go.Scatter(\n",
    "    x = jaist['year'],\n",
    "    y = jaist['count'],\n",
    "    mode = 'lines+markers',\n",
    "    name = 'JAIST (New Name)'\n",
    ")\n",
    "trace4 = go.Scatter(\n",
    "    x = jasist['year'],\n",
    "    y = jasist['count'],\n",
    "    mode = 'lines+markers',\n",
    "    name = 'JASIST (Old Name)'\n",
    ")\n",
    "\n",
    "data = [trace1, trace2, trace3, trace4]\n",
    "\n",
    "layout = go.Layout(\n",
    "    yaxis=dict(\n",
    "        title='Number of Publications',\n",
    "    ),\n",
    "    xaxis=dict(\n",
    "        title='Year',\n",
    "    )\n",
    ")\n",
    "\n",
    "fig = go.Figure(data=data, layout=layout)\n",
    "py.iplot(fig, filename='growth-over-time-multiples')"
   ]
  },
  {
   "cell_type": "markdown",
   "metadata": {},
   "source": [
    "Although the first issue of JOURNAL OF THE AMERICAN SOCIETY FOR INFORMATION SCIENCE AND TECHNOLOGY came out in 1950, the Web of Science does not have meta-data on the journal before 2001. "
   ]
  },
  {
   "cell_type": "markdown",
   "metadata": {},
   "source": [
    "Other methods for working with `Record Collections` (e.g. for RPYS analysis, text analysis, and network analysis) are provided in the other supplementary Jupyter Notebooks. "
   ]
  }
 ],
 "metadata": {
  "anaconda-cloud": {},
  "kernelspec": {
   "display_name": "Python 3",
   "language": "python",
   "name": "python3"
  },
  "language_info": {
   "codemirror_mode": {
    "name": "ipython",
    "version": 3
   },
   "file_extension": ".py",
   "mimetype": "text/x-python",
   "name": "python",
   "nbconvert_exporter": "python",
   "pygments_lexer": "ipython3",
   "version": "3.6.4"
  }
 },
 "nbformat": 4,
 "nbformat_minor": 2
}
